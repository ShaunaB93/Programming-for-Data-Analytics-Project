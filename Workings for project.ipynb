{
 "cells": [
  {
   "cell_type": "code",
   "execution_count": 21,
   "metadata": {},
   "outputs": [
    {
     "name": "stdout",
     "output_type": "stream",
     "text": [
      "               Player  Height  Headed_Goals  Total_Goals  Minutes_Played\n",
      "0        Peter Crouch     201            11           20            5022\n",
      "1  Zlatan Ibrahimovic     195             4           17            2539\n",
      "2        Andy Carroll     193            10           24            4520\n",
      "3   Alexander Sorloth     193             0            0             360\n",
      "4   Fernando Llorente     193             9           16            2678\n"
     ]
    }
   ],
   "source": [
    "# Importing of packages required for visualisations and to view within the notebook\n",
    "\n",
    "import numpy as np\n",
    "import pandas as pd\n",
    "import matplotlib.pyplot as plt\n",
    "import seaborn as sns\n",
    "\n",
    "%matplotlib inline\n",
    "\n",
    "# Prints the data set for review before visualisation\n",
    "np.random.seed = 5\n",
    "stats = pd.read_csv('https://raw.githubusercontent.com/ShaunaB93/Programming-for-Data-Analytics-Project/master/Data%20files/Ordered%20stats.csv')\n",
    "#print(stats)\n",
    "Tall5 = stats.head()\n",
    "print(Tall5)"
   ]
  },
  {
   "cell_type": "code",
   "execution_count": 8,
   "metadata": {},
   "outputs": [
    {
     "name": "stdout",
     "output_type": "stream",
     "text": [
      "              Player  Height  Headed_Goals  Total_Goals  Minutes_Played\n",
      "110      Levi Lumeka     170             0            0              25\n",
      "111  Xherdan Shaqiri     169             0           15            6784\n",
      "112   Alexis Sanchez     169             7           62           11171\n",
      "113            Pedro     169             2           20            5714\n",
      "114  Michael Obafemi     169             0            0               8\n"
     ]
    }
   ],
   "source": [
    "Small5 = stats.tail()\n",
    "print(Small5)"
   ]
  },
  {
   "cell_type": "code",
   "execution_count": 11,
   "metadata": {},
   "outputs": [
    {
     "name": "stdout",
     "output_type": "stream",
     "text": [
      "           Height  Headed_Goals  Total_Goals  Minutes_Played\n",
      "count  115.000000    115.000000   115.000000      115.000000\n",
      "mean   181.495652      2.643478    15.486957     3664.904348\n",
      "std      6.812494      3.846145    18.120147     3308.534872\n",
      "min    169.000000      0.000000     0.000000        1.000000\n",
      "25%    176.000000      0.000000     1.000000      840.500000\n",
      "50%    182.000000      1.000000    12.000000     2802.000000\n",
      "75%    186.000000      3.500000    20.000000     5743.000000\n",
      "max    201.000000     21.000000   105.000000    12185.000000\n"
     ]
    }
   ],
   "source": [
    "print(stats.describe())"
   ]
  },
  {
   "cell_type": "code",
   "execution_count": 25,
   "metadata": {},
   "outputs": [
    {
     "name": "stdout",
     "output_type": "stream",
     "text": [
      "[194.2 171.1 187.5 183.2 199.7 178.  198.1 192.6 185.4 181.1 198.1 170.2\n",
      " 183.5 176.8 173.2 187.8 192.5 196.7 180.8 177.9 178.9 179.5 173.1 200.8\n",
      " 188.3 172.8 194.2 194.6 183.6 182.3 169.9 189.6 169.6 200.  172.4 197.7\n",
      " 172.6 179.2 181.3 179.6 174.  181.4 195.3 192.9 199.7 179.7 189.2 188.9\n",
      " 173.9 176.9 194.4 198.4 185.5 191.7 184.4 186.2 176.7 193.9 173.8 173.9\n",
      " 181.7 185.6 192.  169.3 175.9 174.1 180.  183.8 185.6 181.3 188.2 198.1\n",
      " 186.  198.7 199.1 197.4 196.9 173.9 188.7 182.8 190.1 200.5 177.4 172.1\n",
      " 187.  193.  193.8 186.1 195.9 173.2 173.7 189.3 188.6 172.5 182.5 186.\n",
      " 170.4 196.3 197.7 196.3]\n"
     ]
    }
   ],
   "source": [
    "# Height\n",
    "# As mentioned previously height is calculated over a uniform distribution\n",
    "#numpy.random.uniform(low=0.0, high=1.0, size=None)\n",
    "\n",
    "Height = (np.random.uniform(low=169, high=201, size=100)).round(1)\n",
    "print(Height)"
   ]
  },
  {
   "cell_type": "code",
   "execution_count": 19,
   "metadata": {},
   "outputs": [],
   "source": [
    "# Minutes played\n",
    "\n"
   ]
  },
  {
   "cell_type": "code",
   "execution_count": null,
   "metadata": {},
   "outputs": [],
   "source": [
    "# Goals scored"
   ]
  },
  {
   "cell_type": "code",
   "execution_count": null,
   "metadata": {},
   "outputs": [],
   "source": [
    "# Headed goals"
   ]
  }
 ],
 "metadata": {
  "kernelspec": {
   "display_name": "Python 3",
   "language": "python",
   "name": "python3"
  },
  "language_info": {
   "codemirror_mode": {
    "name": "ipython",
    "version": 3
   },
   "file_extension": ".py",
   "mimetype": "text/x-python",
   "name": "python",
   "nbconvert_exporter": "python",
   "pygments_lexer": "ipython3",
   "version": "3.7.0"
  }
 },
 "nbformat": 4,
 "nbformat_minor": 2
}

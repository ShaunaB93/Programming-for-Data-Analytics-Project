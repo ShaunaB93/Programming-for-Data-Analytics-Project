{
 "cells": [
  {
   "cell_type": "markdown",
   "metadata": {},
   "source": [
    "# Project Statement from original project document -\n",
    "\n",
    "Choose a real-world phenomenon that can be measured and for which you could collect at least one-hundred data points across at least four different variables.\n",
    "1) Investigate the types of variables involved, their likely distributions, and their relationships with each other.\n",
    "2) Synthesise/simulate a data set as closely matching their properties as possible.\n",
    "3) Detail your research and implement the simulation in a Jupyter notebook – the data set itself can simply be displayed in an output cell within the notebook.\n",
    "Note that this project is about simulation – you must synthesise a data set. Some students may already have some real-world data sets in their own files. It is okay to base your synthesised data set on these should you wish (please reference it if you do), but the main task in this project is to create a synthesised data set. The next section gives an example project idea.\n",
    "\n",
    "## Example Scenario\n",
    "As a lecturer I might pick the real-world phenomenon of the performance of students studying a ten-credit module. After some research, I decide that the most interesting variable related to this is the mark a student receives in the module - this is going to be one of my variables (grade). Upon investigation of the problem, I find that the number of hours on average a student studies per week (hours), the number of times they log onto Moodle in the first three weeks of term (logins), and their previous level of degree qualification (qual) are closely related to grade. The hours and grade variables will be non-negative real number with two decimal places, logins will be a non-zero integer and qual will be a categorical variable with four possible values: none, bachelors, masters, or phd. After some online research, I find that full-time post-graduate students study on average four hours per week with a standard deviation of a quarter of an hour and that a normal distribution is an acceptable model of such a variable. Likewise, I investigate the other four variables, and I also look at the relationships between the variables. I devise an algorithm (or method) to generate such a data set, simulating values of the four variables for two-hundred students. I detail all this work in my notebook, and then I add some code in to generate a data set with those properties.-\n"
   ]
  },
  {
   "cell_type": "markdown",
   "metadata": {},
   "source": [
    "# Suggested Scenario for project brief -\n",
    "\n",
    "## Real-world phenomen to examine -\n",
    "\n",
    "Whether height as a premier league striker has an impact on the number of headers/goals scoreded, between the 14/15 and 17/18 seasons being used as the original data in order to model and correctly determine the relationships.\n",
    "\n",
    "Types of variables involved -\n",
    "1) Height of the player\n",
    "Average height of the strikers whom scored goals over the time frame in question is 181.5 cm. The minimum and maximum heights noted are - 169 and 201 cm respectively. With a standard deviation of 6.8 cm.\n",
    "The height of the individual player will be a non-negative real number with one decimal place.\n",
    "\n",
    "2) The minute played\n",
    "Average minutes played of the strikers listed over the years in question is 3674. The minimum and maximum minutes noted are - 1 and 12185 mins respectively.\n",
    "The minutes played for each of the players in the simulated dataset will be a non-negative real number with no decimal places.\n",
    "\n",
    "3) Total goals scored\n",
    "Average total goals scored of the strikers listed over the years in question is 15.5. The minimum and maximum total goals scored noted are - 0 and 105 mins respectively.\n",
    "For such statistics in sport the values are generally rounded to one decimal place, therefore, in the case of this study the value of the total goals scored being simulated will be a non-negative real number with one decimal place.\n",
    "\n",
    "4) Total headed goals scored\n",
    "Average total headed goals scored of the strikers listed over the years in question is 2.7. The minimum and maximum total goals scored noted are - 0 and 21 mins respectively.\n",
    "Similar to the previous statement, such statistics in sport the values are generally rounded to one decimal place, therefore, in the case of this study the value of the total headed goals scored being simulated will be a non-negative real number with one decimal place.\n",
    "\n",
    "### Likely distributions -\n",
    "\n",
    "1) Height of the player\n",
    "As per research human heights generally follow a uniform distribution (http://www.usablestats.com/lessons/normal). Therefore a normal distribution can be applied when generating the heights in the case of this simulation.\n",
    "\n",
    "2) The minute played\n",
    "The standard number of minutes which can be played in the premier league matches in a season is 3420.\n",
    "The number of minutes played by a player over the course of 4 seasons can also follow a normal distribution as some players can play no minutes over one of the seasons due to transfers or loans to a club outside of the league.\n",
    "This variable would not be as closely related to height as the goals scored or headed goals but does relate to either of the types of goals scored.\n",
    "(Total number of matches) 38 x 90 (Length of a standard match) = 3420 possible minutes\n",
    "\n",
    "3) Total goals scored\n",
    "\n",
    "4) Total headed goals scored\n",
    "Relationships with each other -\n",
    "It would be generally assumed that a player's height should mean that they would score more headed goals than smaller opponent strikers. I believe that minutes played would also have an impact on this as if a striker plays less minutes over a season or more they should score more goals than someone who plays a lot less minutes whether it be headed goals or in any other fashion.\n",
    "\n",
    "### Notes required for project –\n",
    "\n",
    "1)\tResearch findings about phenomenon\n",
    "2)\tVariables involved + relationships to each other\n",
    "3)\tWhat the variables look like to fit properties\n",
    "4)\tCode to simulate the data set in that shape\n",
    "5)\tDisplay code in notebook\n",
    "\n",
    "A) Pick variables\n",
    "    1)\tHeight of striker\n",
    "    2)\tGoals scored by striker\n",
    "    3)\tHeaded goals scored\n",
    "    4)\tName\n",
    "    5)\tMinutes Played\n",
    "B) What variables look like – distribution they follow\n",
    "C) Relationships between the variables\n",
    "D)\tSimulate data set\n",
    "E)\tDisplay data set\n",
    "\n",
    "#### Discussion of proect brief chosen - \n",
    "\n",
    "As I am a big sports fan I decide to choose the real-world phenomenon of the difference in headed goals scored depending on the height of a striker. I have researched the background and determined that in order to examine this phenomenon the following variables would be analysed for the purpose of simulating this dataset –\n",
    "\n",
    "1)\tHeight of the striker\n",
    "2)\tMinutes played in a season\n",
    "3)\tTotal goals scored\n",
    "4)\tHeaded goals scored\n",
    "\n",
    "I believe that the players height does have an impact on the number of headed goals scored per centage they would score over a smaller player. While the total number of goals gives an idea on how prolific the striker is aside from height, therefore indicating the impact their height has on the number of headed goals scored. The minutes played in a season would also need to be measured in order to give an idea of the impact the striker has, as less minutes played means that they have less of a chance of scoring a high number of total goals as well as headed goals.\n",
    "Following research of the topic, I have founded that the following listed variables are the average values for each of the 4 variables mentioned previously over the last 4 premier league seasons – \n",
    "A) Average height of the strikers over this time was 181.5 cm, with a standard deviation of 6.8 cm.\n",
    "B) Average number of headed goals scored by the strikers present in the league over this time was 3, with a standard deviation of 4 when both values are rounded.\n",
    "C) Average total goals scored by the strikers present in the league over this time was 15, with a standard deviation of 18 when both values are rounded.\n",
    "D) Average minutes played by the strikers present in the league over this time was 3665 with a standard deviation of 3309 when both values are rounded. While it should be noted that over a course of a season of 38 games of 90 minutes it is possible for players to play 3420 minutes, over 4 seasons this total would be 13680 minutes.\n",
    "\n",
    "Height\n",
    "\n",
    "From research of the height variable it was determined that a uniform distribution would be a good model for this variable based on the mean and std. dev values founded from the real data set (http://www.usablestats.com/lessons/normal).\n",
    "Numpy.random distribution to be used - uniform\n",
    "\n",
    "Goals Scored\n",
    "\n",
    "Would be a non-negative, but possibly zero, random integer which would be based on the minutes played by the player. This would be due to the fact that the less minutes a player has played it would be expected for them to score less goals in total than a striker who plays every minute of the season in question.\n",
    "\n",
    "Headed Goals\n",
    "\n",
    "Would be a non-negative, but possibly zero, random integer which would be based upon both the total goals scored and therefore also minutes played. It would also be based upon height as this data set will assume that taller players would have a higher headed goals per centage of their total than smaller players would have.\n",
    "\n",
    "Minutes Played\n",
    "\n",
    "Would be a non-negative, but possibly zero, random integer based around the mean minutes played in the real data set along with the std. deviation.\n",
    "Minutes played in each match are independent of the next match. Set number of trials = 38 matches. Each minute the player either plays (0) or doesn’t play (1)\n"
   ]
  },
  {
   "cell_type": "code",
   "execution_count": 21,
   "metadata": {},
   "outputs": [
    {
     "name": "stdout",
     "output_type": "stream",
     "text": [
      "               Player  Height  Headed_Goals  Total_Goals  Minutes_Played\n",
      "0        Peter Crouch     201            11           20            5022\n",
      "1  Zlatan Ibrahimovic     195             4           17            2539\n",
      "2        Andy Carroll     193            10           24            4520\n",
      "3   Alexander Sorloth     193             0            0             360\n",
      "4   Fernando Llorente     193             9           16            2678\n"
     ]
    }
   ],
   "source": [
    "# Importing of packages required for visualisations and to view within the notebook\n",
    "\n",
    "import numpy as np\n",
    "import pandas as pd\n",
    "import matplotlib.pyplot as plt\n",
    "import seaborn as sns\n",
    "\n",
    "%matplotlib inline\n",
    "\n",
    "# Prints the data set for review before visualisation\n",
    "np.random.seed = 5\n",
    "stats = pd.read_csv('https://raw.githubusercontent.com/ShaunaB93/Programming-for-Data-Analytics-Project/master/Data%20files/Ordered%20stats.csv')\n",
    "#print(stats)\n",
    "Tall5 = stats.head()\n",
    "print(Tall5)"
   ]
  },
  {
   "cell_type": "code",
   "execution_count": 8,
   "metadata": {},
   "outputs": [
    {
     "name": "stdout",
     "output_type": "stream",
     "text": [
      "              Player  Height  Headed_Goals  Total_Goals  Minutes_Played\n",
      "110      Levi Lumeka     170             0            0              25\n",
      "111  Xherdan Shaqiri     169             0           15            6784\n",
      "112   Alexis Sanchez     169             7           62           11171\n",
      "113            Pedro     169             2           20            5714\n",
      "114  Michael Obafemi     169             0            0               8\n"
     ]
    }
   ],
   "source": [
    "Small5 = stats.tail()\n",
    "print(Small5)"
   ]
  },
  {
   "cell_type": "code",
   "execution_count": 11,
   "metadata": {},
   "outputs": [
    {
     "name": "stdout",
     "output_type": "stream",
     "text": [
      "           Height  Headed_Goals  Total_Goals  Minutes_Played\n",
      "count  115.000000    115.000000   115.000000      115.000000\n",
      "mean   181.495652      2.643478    15.486957     3664.904348\n",
      "std      6.812494      3.846145    18.120147     3308.534872\n",
      "min    169.000000      0.000000     0.000000        1.000000\n",
      "25%    176.000000      0.000000     1.000000      840.500000\n",
      "50%    182.000000      1.000000    12.000000     2802.000000\n",
      "75%    186.000000      3.500000    20.000000     5743.000000\n",
      "max    201.000000     21.000000   105.000000    12185.000000\n"
     ]
    }
   ],
   "source": [
    "print(stats.describe())"
   ]
  },
  {
   "cell_type": "code",
   "execution_count": 25,
   "metadata": {},
   "outputs": [
    {
     "name": "stdout",
     "output_type": "stream",
     "text": [
      "[194.2 171.1 187.5 183.2 199.7 178.  198.1 192.6 185.4 181.1 198.1 170.2\n",
      " 183.5 176.8 173.2 187.8 192.5 196.7 180.8 177.9 178.9 179.5 173.1 200.8\n",
      " 188.3 172.8 194.2 194.6 183.6 182.3 169.9 189.6 169.6 200.  172.4 197.7\n",
      " 172.6 179.2 181.3 179.6 174.  181.4 195.3 192.9 199.7 179.7 189.2 188.9\n",
      " 173.9 176.9 194.4 198.4 185.5 191.7 184.4 186.2 176.7 193.9 173.8 173.9\n",
      " 181.7 185.6 192.  169.3 175.9 174.1 180.  183.8 185.6 181.3 188.2 198.1\n",
      " 186.  198.7 199.1 197.4 196.9 173.9 188.7 182.8 190.1 200.5 177.4 172.1\n",
      " 187.  193.  193.8 186.1 195.9 173.2 173.7 189.3 188.6 172.5 182.5 186.\n",
      " 170.4 196.3 197.7 196.3]\n"
     ]
    }
   ],
   "source": [
    "# Height\n",
    "# As mentioned previously height is calculated over a uniform distribution\n",
    "#numpy.random.uniform(low=0.0, high=1.0, size=None)\n",
    "\n",
    "Height = (np.random.uniform(low=169, high=201, size=100)).round(1)\n",
    "print(Height)"
   ]
  },
  {
   "cell_type": "code",
   "execution_count": 19,
   "metadata": {},
   "outputs": [],
   "source": [
    "# Minutes played\n",
    "\n"
   ]
  },
  {
   "cell_type": "code",
   "execution_count": null,
   "metadata": {},
   "outputs": [],
   "source": [
    "# Goals scored"
   ]
  },
  {
   "cell_type": "code",
   "execution_count": null,
   "metadata": {},
   "outputs": [],
   "source": [
    "# Headed goals"
   ]
  }
 ],
 "metadata": {
  "kernelspec": {
   "display_name": "Python 3",
   "language": "python",
   "name": "python3"
  },
  "language_info": {
   "codemirror_mode": {
    "name": "ipython",
    "version": 3
   },
   "file_extension": ".py",
   "mimetype": "text/x-python",
   "name": "python",
   "nbconvert_exporter": "python",
   "pygments_lexer": "ipython3",
   "version": "3.7.0"
  }
 },
 "nbformat": 4,
 "nbformat_minor": 2
}

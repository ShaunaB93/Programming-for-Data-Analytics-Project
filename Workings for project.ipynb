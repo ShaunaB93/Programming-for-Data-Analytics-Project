{
 "cells": [
  {
   "cell_type": "markdown",
   "metadata": {},
   "source": [
    "# Project Statement from original project document -\n",
    "\n",
    "Choose a real-world phenomenon that can be measured and for which you could collect at least one-hundred data points across at least four different variables.\n",
    "1) Investigate the types of variables involved, their likely distributions, and their relationships with each other.\n",
    "2) Synthesise/simulate a data set as closely matching their properties as possible.\n",
    "3) Detail your research and implement the simulation in a Jupyter notebook – the data set itself can simply be displayed in an output cell within the notebook.\n",
    "Note that this project is about simulation – you must synthesise a data set. Some students may already have some real-world data sets in their own files. It is okay to base your synthesised data set on these should you wish (please reference it if you do), but the main task in this project is to create a synthesised data set. The next section gives an example project idea.\n",
    "\n",
    "## Example Scenario\n",
    "As a lecturer I might pick the real-world phenomenon of the performance of students studying a ten-credit module. After some research, I decide that the most interesting variable related to this is the mark a student receives in the module - this is going to be one of my variables (grade). Upon investigation of the problem, I find that the number of hours on average a student studies per week (hours), the number of times they log onto Moodle in the first three weeks of term (logins), and their previous level of degree qualification (qual) are closely related to grade. The hours and grade variables will be non-negative real number with two decimal places, logins will be a non-zero integer and qual will be a categorical variable with four possible values: none, bachelors, masters, or phd. After some online research, I find that full-time post-graduate students study on average four hours per week with a standard deviation of a quarter of an hour and that a normal distribution is an acceptable model of such a variable. Likewise, I investigate the other four variables, and I also look at the relationships between the variables. I devise an algorithm (or method) to generate such a data set, simulating values of the four variables for two-hundred students. I detail all this work in my notebook, and then I add some code in to generate a data set with those properties.-\n"
   ]
  },
  {
   "cell_type": "markdown",
   "metadata": {},
   "source": [
    "# Suggested Scenario for project brief -\n",
    "\n",
    "## Real-world phenomen to examine -\n",
    "\n",
    "Whether height as a premier league striker has an impact on the number of headers/goals scoreded, between the 14/15 and 17/18 seasons being used as the original data in order to model and correctly determine the relationships.\n",
    "\n",
    "Types of variables involved -\n",
    "1) Height of the player\n",
    "Average height of the strikers whom scored goals over the time frame in question is 181.5 cm. The minimum and maximum heights noted are - 169 and 201 cm respectively. With a standard deviation of 6.8 cm.\n",
    "The height of the individual player will be a non-negative real number with one decimal place.\n",
    "\n",
    "2) The minute played\n",
    "Average minutes played of the strikers listed over the years in question is 3674. The minimum and maximum minutes noted are - 1 and 12185 mins respectively.\n",
    "The minutes played for each of the players in the simulated dataset will be a non-negative real number with no decimal places.\n",
    "\n",
    "3) Total goals scored\n",
    "Average total goals scored of the strikers listed over the years in question is 15.5. The minimum and maximum total goals scored noted are - 0 and 105 mins respectively.\n",
    "For such statistics in sport the values are generally rounded to one decimal place, therefore, in the case of this study the value of the total goals scored being simulated will be a non-negative real number with one decimal place.\n",
    "\n",
    "4) Total headed goals scored\n",
    "Average total headed goals scored of the strikers listed over the years in question is 2.7. The minimum and maximum total goals scored noted are - 0 and 21 mins respectively.\n",
    "Similar to the previous statement, such statistics in sport the values are generally rounded to one decimal place, therefore, in the case of this study the value of the total headed goals scored being simulated will be a non-negative real number with one decimal place.\n",
    "\n",
    "### Likely distributions -\n",
    "\n",
    "1) Height of the player\n",
    "As per research human heights generally follow a uniform distribution (http://www.usablestats.com/lessons/normal). Therefore a normal distribution can be applied when generating the heights in the case of this simulation.\n",
    "\n",
    "2) The minute played\n",
    "The standard number of minutes which can be played in the premier league matches in a season is 3420.\n",
    "The number of minutes played by a player over the course of 4 seasons can also follow a normal distribution as some players can play no minutes over one of the seasons due to transfers or loans to a club outside of the league.\n",
    "This variable would not be as closely related to height as the goals scored or headed goals but does relate to either of the types of goals scored.\n",
    "(Total number of matches) 38 x 90 (Length of a standard match) = 3420 possible minutes\n",
    "\n",
    "3) Total goals scored\n",
    "\n",
    "4) Total headed goals scored\n",
    "Relationships with each other -\n",
    "It would be generally assumed that a player's height should mean that they would score more headed goals than smaller opponent strikers. I believe that minutes played would also have an impact on this as if a striker plays less minutes over a season or more they should score more goals than someone who plays a lot less minutes whether it be headed goals or in any other fashion.\n",
    "\n",
    "### Notes required for project –\n",
    "\n",
    "1)\tResearch findings about phenomenon\n",
    "2)\tVariables involved + relationships to each other\n",
    "3)\tWhat the variables look like to fit properties\n",
    "4)\tCode to simulate the data set in that shape\n",
    "5)\tDisplay code in notebook\n",
    "\n",
    "A) Pick variables\n",
    "    1)\tHeight of striker\n",
    "    2)\tGoals scored by striker\n",
    "    3)\tHeaded goals scored\n",
    "    4)\tName\n",
    "    5)\tMinutes Played\n",
    "B) What variables look like – distribution they follow\n",
    "C) Relationships between the variables\n",
    "D)\tSimulate data set\n",
    "E)\tDisplay data set\n",
    "\n",
    "#### Discussion of proect brief chosen - \n",
    "\n",
    "As I am a big sports fan I decide to choose the real-world phenomenon of the difference in headed goals scored depending on the height of a striker. I have researched the background and determined that in order to examine this phenomenon the following variables would be analysed for the purpose of simulating this dataset –\n",
    "\n",
    "1)\tHeight of the striker\n",
    "2)\tMinutes played in a season\n",
    "3)\tTotal goals scored\n",
    "4)\tHeaded goals scored\n",
    "\n",
    "I believe that the players height does have an impact on the number of headed goals scored per centage they would score over a smaller player. While the total number of goals gives an idea on how prolific the striker is aside from height, therefore indicating the impact their height has on the number of headed goals scored. The minutes played in a season would also need to be measured in order to give an idea of the impact the striker has, as less minutes played means that they have less of a chance of scoring a high number of total goals as well as headed goals.\n",
    "Following research of the topic, I have founded that the following listed variables are the average values for each of the 4 variables mentioned previously over the last 4 premier league seasons – \n",
    "A) Average height of the strikers over this time was 181.5 cm, with a standard deviation of 6.8 cm.\n",
    "B) Average number of headed goals scored by the strikers present in the league over this time was 3, with a standard deviation of 4 when both values are rounded.\n",
    "C) Average total goals scored by the strikers present in the league over this time was 15, with a standard deviation of 18 when both values are rounded.\n",
    "D) Average minutes played by the strikers present in the league over this time was 3665 with a standard deviation of 3309 when both values are rounded. While it should be noted that over a course of a season of 38 games of 90 minutes it is possible for players to play 3420 minutes, over 4 seasons this total would be 13680 minutes.\n",
    "\n",
    "Height\n",
    "\n",
    "From research of the height variable it was determined that a uniform distribution would be a good model for this variable based on the mean and std. dev values founded from the real data set (http://www.usablestats.com/lessons/normal).\n",
    "Numpy.random distribution to be used - uniform\n",
    "\n",
    "Goals Scored\n",
    "\n",
    "Would be a non-negative, but possibly zero, random integer which would be based on the minutes played by the player. This would be due to the fact that the less minutes a player has played it would be expected for them to score less goals in total than a striker who plays every minute of the season in question.\n",
    "\n",
    "Headed Goals\n",
    "\n",
    "Would be a non-negative, but possibly zero, random integer which would be based upon both the total goals scored and therefore also minutes played. It would also be based upon height as this data set will assume that taller players would have a higher headed goals per centage of their total than smaller players would have.\n",
    "\n",
    "Minutes Played\n",
    "\n",
    "Would be a non-negative, but possibly zero, random integer based around the mean minutes played in the real data set along with the std. deviation.\n",
    "Minutes played in each match are independent of the next match. Set number of trials = 38 matches. Each minute the player either plays (0) or doesn’t play (1)\n"
   ]
  },
  {
   "cell_type": "code",
   "execution_count": 21,
   "metadata": {},
   "outputs": [
    {
     "name": "stdout",
     "output_type": "stream",
     "text": [
      "               Player  Height  Headed_Goals  Total_Goals  Minutes_Played\n",
      "0        Peter Crouch     201            11           20            5022\n",
      "1  Zlatan Ibrahimovic     195             4           17            2539\n",
      "2        Andy Carroll     193            10           24            4520\n",
      "3   Alexander Sorloth     193             0            0             360\n",
      "4   Fernando Llorente     193             9           16            2678\n"
     ]
    }
   ],
   "source": [
    "# Importing of packages required for visualisations and to view within the notebook\n",
    "\n",
    "import numpy as np\n",
    "import pandas as pd\n",
    "import matplotlib.pyplot as plt\n",
    "import seaborn as sns\n",
    "\n",
    "%matplotlib inline\n",
    "\n",
    "# Prints the data set for review before visualisation\n",
    "np.random.seed = 5\n",
    "stats = pd.read_csv('https://raw.githubusercontent.com/ShaunaB93/Programming-for-Data-Analytics-Project/master/Data%20files/Ordered%20stats.csv')\n",
    "#print(stats)\n",
    "Tall5 = stats.head()\n",
    "print(Tall5)"
   ]
  },
  {
   "cell_type": "code",
   "execution_count": 8,
   "metadata": {},
   "outputs": [
    {
     "name": "stdout",
     "output_type": "stream",
     "text": [
      "              Player  Height  Headed_Goals  Total_Goals  Minutes_Played\n",
      "110      Levi Lumeka     170             0            0              25\n",
      "111  Xherdan Shaqiri     169             0           15            6784\n",
      "112   Alexis Sanchez     169             7           62           11171\n",
      "113            Pedro     169             2           20            5714\n",
      "114  Michael Obafemi     169             0            0               8\n"
     ]
    }
   ],
   "source": [
    "Small5 = stats.tail()\n",
    "print(Small5)"
   ]
  },
  {
   "cell_type": "code",
   "execution_count": 11,
   "metadata": {},
   "outputs": [
    {
     "name": "stdout",
     "output_type": "stream",
     "text": [
      "           Height  Headed_Goals  Total_Goals  Minutes_Played\n",
      "count  115.000000    115.000000   115.000000      115.000000\n",
      "mean   181.495652      2.643478    15.486957     3664.904348\n",
      "std      6.812494      3.846145    18.120147     3308.534872\n",
      "min    169.000000      0.000000     0.000000        1.000000\n",
      "25%    176.000000      0.000000     1.000000      840.500000\n",
      "50%    182.000000      1.000000    12.000000     2802.000000\n",
      "75%    186.000000      3.500000    20.000000     5743.000000\n",
      "max    201.000000     21.000000   105.000000    12185.000000\n"
     ]
    }
   ],
   "source": [
    "print(stats.describe())"
   ]
  },
  {
   "cell_type": "code",
   "execution_count": 25,
   "metadata": {},
   "outputs": [
    {
     "name": "stdout",
     "output_type": "stream",
     "text": [
      "[194.2 171.1 187.5 183.2 199.7 178.  198.1 192.6 185.4 181.1 198.1 170.2\n",
      " 183.5 176.8 173.2 187.8 192.5 196.7 180.8 177.9 178.9 179.5 173.1 200.8\n",
      " 188.3 172.8 194.2 194.6 183.6 182.3 169.9 189.6 169.6 200.  172.4 197.7\n",
      " 172.6 179.2 181.3 179.6 174.  181.4 195.3 192.9 199.7 179.7 189.2 188.9\n",
      " 173.9 176.9 194.4 198.4 185.5 191.7 184.4 186.2 176.7 193.9 173.8 173.9\n",
      " 181.7 185.6 192.  169.3 175.9 174.1 180.  183.8 185.6 181.3 188.2 198.1\n",
      " 186.  198.7 199.1 197.4 196.9 173.9 188.7 182.8 190.1 200.5 177.4 172.1\n",
      " 187.  193.  193.8 186.1 195.9 173.2 173.7 189.3 188.6 172.5 182.5 186.\n",
      " 170.4 196.3 197.7 196.3]\n"
     ]
    }
   ],
   "source": [
    "# Height\n",
    "# As mentioned previously height is calculated over a uniform distribution\n",
    "#numpy.random.uniform(low=0.0, high=1.0, size=None)\n",
    "\n",
    "Height = (np.random.uniform(low=169, high=201, size=100)).round(1)\n",
    "print(Height)"
   ]
  },
  {
   "cell_type": "code",
   "execution_count": 27,
   "metadata": {},
   "outputs": [
    {
     "name": "stdout",
     "output_type": "stream",
     "text": [
      "[1755 1731 1063 1356 3042 1220  859 1988  938 2386 1521 1577 3280 1510\n",
      " 1861  796 3051  755   24 1998 3154 2103 3090 1748 2970  827 2503 3215\n",
      "  903 1251 1299 2448 2494 1071 1676 2729 1518  898 1118  471  723  558\n",
      "  193 1050    1 2034 1768 2972 1383 2134 2261  174 2012 1618 1187 1051\n",
      " 2919  733  370 1994  546  584  482   95  504 1577 2143    5 2541  616\n",
      " 1780 2765 2294 2389 2205 1829  815 2745 1568 1715  153  937 2231  448\n",
      "  590 1166 1951 2362 2351 3294 2752 1910 2154  146 1385 3406 2917  324\n",
      " 3347  173]\n"
     ]
    }
   ],
   "source": [
    "# Minutes played\n",
    "# Minutes played would be a random integer value between 0 and 3420 (standard 90 minutes over the 38 league games played in a premier league season)\n",
    "\n",
    "Mins = (np.random.randint(low=0, high= 3420, size =100))\n",
    "print(Mins)"
   ]
  },
  {
   "cell_type": "code",
   "execution_count": null,
   "metadata": {},
   "outputs": [],
   "source": [
    "# Goals scored\n",
    "# Random integer which would be based on the minutes played by the player\n",
    "\n"
   ]
  },
  {
   "cell_type": "code",
   "execution_count": null,
   "metadata": {},
   "outputs": [],
   "source": [
    "# Headed goals"
   ]
  },
  {
   "cell_type": "code",
   "execution_count": 30,
   "metadata": {},
   "outputs": [
    {
     "ename": "SyntaxError",
     "evalue": "invalid syntax (<ipython-input-30-2c6c954ddb62>, line 2)",
     "output_type": "error",
     "traceback": [
      "\u001b[1;36m  File \u001b[1;32m\"<ipython-input-30-2c6c954ddb62>\"\u001b[1;36m, line \u001b[1;32m2\u001b[0m\n\u001b[1;33m    'Mins', (np.random.randint(low=0, high= 3420, size =100)))\u001b[0m\n\u001b[1;37m         ^\u001b[0m\n\u001b[1;31mSyntaxError\u001b[0m\u001b[1;31m:\u001b[0m invalid syntax\n"
     ]
    }
   ],
   "source": [
    "# Print output of variables to table - needed later\n",
    "\n",
    "import texttable as tt\n",
    "tab = tt.Texttable()\n",
    "headings = ['Height','Mins','Total Overall Goals Scored','Total Headed Goals Scored']\n",
    "tab.header(headings)\n",
    "names = ['bar', 'chocolate', 'chips']\n",
    "weights = [0.05, 0.1, 0.25]\n",
    "costs = [2.0, 5.0, 3.0]\n",
    "unit_costs = [40.0, 50.0, 12.0]\n",
    "\n",
    "for row in zip(names,weights,costs,unit_costs):\n",
    "    tab.add_row(row)\n",
    "\n",
    "s = tab.draw()\n",
    "print (s)"
   ]
  },
  {
   "cell_type": "code",
   "execution_count": 33,
   "metadata": {},
   "outputs": [
    {
     "name": "stdout",
     "output_type": "stream",
     "text": [
      "    Height  Minutes Played\n",
      "0    194.2            1755\n",
      "1    171.1            1731\n",
      "2    187.5            1063\n",
      "3    183.2            1356\n",
      "4    199.7            3042\n",
      "5    178.0            1220\n",
      "6    198.1             859\n",
      "7    192.6            1988\n",
      "8    185.4             938\n",
      "9    181.1            2386\n",
      "10   198.1            1521\n",
      "11   170.2            1577\n",
      "12   183.5            3280\n",
      "13   176.8            1510\n",
      "14   173.2            1861\n",
      "15   187.8             796\n",
      "16   192.5            3051\n",
      "17   196.7             755\n",
      "18   180.8              24\n",
      "19   177.9            1998\n",
      "20   178.9            3154\n",
      "21   179.5            2103\n",
      "22   173.1            3090\n",
      "23   200.8            1748\n",
      "24   188.3            2970\n",
      "25   172.8             827\n",
      "26   194.2            2503\n",
      "27   194.6            3215\n",
      "28   183.6             903\n",
      "29   182.3            1251\n",
      "..     ...             ...\n",
      "70   188.2            1780\n",
      "71   198.1            2765\n",
      "72   186.0            2294\n",
      "73   198.7            2389\n",
      "74   199.1            2205\n",
      "75   197.4            1829\n",
      "76   196.9             815\n",
      "77   173.9            2745\n",
      "78   188.7            1568\n",
      "79   182.8            1715\n",
      "80   190.1             153\n",
      "81   200.5             937\n",
      "82   177.4            2231\n",
      "83   172.1             448\n",
      "84   187.0             590\n",
      "85   193.0            1166\n",
      "86   193.8            1951\n",
      "87   186.1            2362\n",
      "88   195.9            2351\n",
      "89   173.2            3294\n",
      "90   173.7            2752\n",
      "91   189.3            1910\n",
      "92   188.6            2154\n",
      "93   172.5             146\n",
      "94   182.5            1385\n",
      "95   186.0            3406\n",
      "96   170.4            2917\n",
      "97   196.3             324\n",
      "98   197.7            3347\n",
      "99   196.3             173\n",
      "\n",
      "[100 rows x 2 columns]\n"
     ]
    }
   ],
   "source": [
    "# Generate table of results\n",
    "table = pd.DataFrame({'Height' : Height, 'Minutes Played' : Mins})\n",
    "print(table)"
   ]
  }
 ],
 "metadata": {
  "kernelspec": {
   "display_name": "Python 3",
   "language": "python",
   "name": "python3"
  },
  "language_info": {
   "codemirror_mode": {
    "name": "ipython",
    "version": 3
   },
   "file_extension": ".py",
   "mimetype": "text/x-python",
   "name": "python",
   "nbconvert_exporter": "python",
   "pygments_lexer": "ipython3",
   "version": "3.7.0"
  }
 },
 "nbformat": 4,
 "nbformat_minor": 2
}

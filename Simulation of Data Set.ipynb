{
 "cells": [
  {
   "cell_type": "markdown",
   "metadata": {},
   "source": [
    "## Real-world phenomen to examine -\n",
    "\n",
    "Whether height as a premier league striker has an impact on the number of headers/goals scored in a season. In order to obtain correct data which this random data set will be modelled from the statistics were averaged and calculated from the 14/15 to 17/18 seasons in the English Premier League.\n",
    "\n",
    "*__Types of variables involved -__*\n",
    "\n",
    "\n",
    "1) *__Height of the player__*\n",
    "\n",
    "Average height of the strikers whom scored goals over the time frame in question is 181.5 cm. The minimum and maximum heights noted are - 169 and 201 cm respectively. With a standard deviation of 6.8 cm.\n",
    "The height of the individual player will be a non-negative real number with one decimal place.\n",
    "\n",
    "2) *__The minute played__*\n",
    "\n",
    "Average minutes played of the strikers listed over the years in question is 3674. The minimum and maximum minutes noted are - 1 and 12185 mins respectively.\n",
    "The minutes played for each of the players in the simulated dataset will be a non-negative real number with no decimal places.\n",
    "\n",
    "3) *__Total goals scored__*\n",
    "\n",
    "Average total goals scored of the strikers listed over the years in question is 15.5. The minimum and maximum total goals scored noted are - 0 and 105 mins respectively.\n",
    "For such statistics in sport the values are generally rounded to one decimal place, therefore, in the case of this study the value of the total goals scored being simulated will be a non-negative real number with one decimal place.\n",
    "\n",
    "4) *__Total headed goals scored__*\n",
    "\n",
    "Average total headed goals scored of the strikers listed over the years in question is 2.7. The minimum and maximum total goals scored noted are - 0 and 21 mins respectively.\n",
    "Similar to the previous statement, such statistics in sport the values are generally rounded to one decimal place, therefore, in the case of this study the value of the total headed goals scored being simulated will be a non-negative real number with one decimal place.\n",
    "\n",
    "    A) For strikers in the original data set between 201 and 185 cm, the average proportion of headed goals scored was 21%.\n",
    "    B) For strikers in the original data set between 184 and 178 cm the average proportion of headed goals scored was 15%.\n",
    "    C) For strikers in the original data set between 177 and 169 cm the average proportion of headed goals scored was 9%.\n",
    "\n",
    "\n",
    "### Likely distributions -\n",
    "\n",
    "1) *__Height of the player__*\n",
    "\n",
    "As per research human heights generally follow a uniform distribution *[2]*. Therefore a normal distribution can be applied when generating the heights in the case of this simulation.\n",
    "\n",
    "2) *__The minute played__*\n",
    "\n",
    "The standard number of minutes which can be played in the premier league matches in a season is 3420.\n",
    "The number of minutes played by a player follows a normal distribution as some players can play no minutes over the season due injuries etc..\n",
    "This variable would not be as closely related to height as it would to the goals scored or per-centage of headed goals scored. The more minutes played would impact on the total goals scored as it is typically expected that a player has a higher probability of scoring more goals if they play more minutes over the course of a season.\n",
    "(Total number of matches) 38 x 90 (Length of a standard match) = 3420 possible minutes\n",
    "\n",
    "3) *__Total goals scored__*\n",
    "\n",
    "4) *__Percentage of headed goals scored out of total goals scored__*\n",
    "\n",
    "It would be generally assumed that a player's height should mean that they would score more headed goals than smaller opponent strikers. I believe that minutes played would also have an impact on this as if a striker plays less minutes over a season or more they should score more goals than someone who plays a lot less minutes whether it be headed goals or in any other fashion.\n",
    "\n",
    "### Notes required for project –\n",
    "\n",
    "A) Pick variables\n",
    "\n",
    "    1)\tHeight of striker\n",
    "    \n",
    "    2)\tGoals scored by striker\n",
    "    \n",
    "    3)\tHeaded goals scored\n",
    "    \n",
    "    4)\tName\n",
    "    \n",
    "    5)\tMinutes Played\n",
    "    \n",
    "B) What variables look like – distribution they follow\n",
    "\n",
    "C) Relationships between the variables\n",
    "\n",
    "D)\tSimulate data set\n",
    "\n",
    "E)\tDisplay data set\n",
    "\n",
    "#### Discussion of selected project basis to meet the brief - \n",
    "\n",
    "As I am a big sports fan I decide to choose the real-world phenomenon of the difference in headed goals scored depending on the height of a striker. I have researched the background and determined that in order to examine this phenomenon the following variables would be analysed for the purpose of simulating this dataset –\n",
    "\n",
    "1)\tHeight of the striker\n",
    "\n",
    "2)\tMinutes played in a season\n",
    "\n",
    "3)\tTotal goals scored\n",
    "\n",
    "4)\tHeaded goals scored\n",
    "\n",
    "I believe that the players height does have an impact on the number of headed goals scored per centage they would score over a smaller player. While the total number of goals gives an idea on how prolific the striker is aside from height, therefore indicating the impact their height has on the number of headed goals scored. The minutes played in a season would also need to be measured in order to give an idea of the impact the striker has, as less minutes played means that they have less of a chance of scoring a high number of total goals as well as headed goals.\n",
    "Following research of the topic, I have founded that the following listed variables are the average values for each of the 4 variables mentioned previously over the last 4 premier league seasons – \n",
    "A) Average height of the strikers over this time was 181.5 cm, with a standard deviation of 6.8 cm.\n",
    "B) Average number of headed goals scored by the strikers present in the league over this time was 3, with a standard deviation of 4 when both values are rounded.\n",
    "C) Average total goals scored by the strikers present in the league over this time was 15, with a standard deviation of 18 when both values are rounded.\n",
    "D) Average minutes played by the strikers present in the league over this time was 3665 with a standard deviation of 3309 when both values are rounded. While it should be noted that over a course of a season of 38 games of 90 minutes it is possible for players to play 3420 minutes, over 4 seasons this total would be 13680 minutes.\n",
    "\n",
    "*__Height__*\n",
    "\n",
    "From research of the height variable it was determined that a uniform distribution would be a good model for this variable based on the mean and std. dev values founded from the real data set.\n",
    "Numpy.random distribution to be used - uniform\n",
    "\n",
    "*[2]*\n",
    "\n",
    "*__Goals Scored__*\n",
    "\n",
    "Would be a non-negative, but possibly zero, random integer which would be based on the minutes played by the player. This would be due to the fact that the less minutes a player has played it would be expected for them to score less goals in total than a striker who plays every minute of the season in question.\n",
    "\n",
    "*__Per-centage Headed Goals Scored__*\n",
    "\n",
    "Would be a non-negative, but possibly zero, random integer that represents the likely per-centage of the total goals which were headed goals for each player. This would be based upon both the total goals scored and therefore also minutes played. It would also be based upon height as this data set will assume that taller players would have a higher headed goals per centage of their total than smaller players would have.\n",
    "\n",
    "*__Minutes Played__*\n",
    "\n",
    "Would be a non-negative, but possibly zero, random integer based around the mean minutes played in the real data set along with the std. deviation.\n",
    "Minutes played in each match are independent of the next match. Set number of trials = 38 matches. Each minute the player either plays (0) or doesn’t play (1)\n",
    "\n",
    "\n",
    "The data set which the random data set has been modelled on can be found [here](https://github.com/ShaunaB93/Programming-for-Data-Analytics-Project/blob/master/Data%20files/Ordered%20stats.csv)"
   ]
  },
  {
   "cell_type": "code",
   "execution_count": 1,
   "metadata": {},
   "outputs": [
    {
     "name": "stdout",
     "output_type": "stream",
     "text": [
      "               Player  Height  Headed_Goals  Total_Goals  Minutes_Played\n",
      "0        Peter Crouch     201            11           20            5022\n",
      "1  Zlatan Ibrahimovic     195             4           17            2539\n",
      "2        Andy Carroll     193            10           24            4520\n",
      "3   Alexander Sorloth     193             0            0             360\n",
      "4   Fernando Llorente     193             9           16            2678\n"
     ]
    }
   ],
   "source": [
    "# Importing of packages required for visualisations and to view within the notebook\n",
    "\n",
    "import numpy as np\n",
    "import pandas as pd\n",
    "\n",
    "# Prints the data set for review before visualisation\n",
    "np.random.seed = 5\n",
    "stats = pd.read_csv('https://raw.githubusercontent.com/ShaunaB93/Programming-for-Data-Analytics-Project/master/Data%20files/Ordered%20stats.csv')\n",
    "\n",
    "Tall5 = stats.head() # prints top 5 lines to ensure the data set has loaded correctly\n",
    "print(Tall5)"
   ]
  },
  {
   "cell_type": "code",
   "execution_count": 2,
   "metadata": {},
   "outputs": [
    {
     "name": "stdout",
     "output_type": "stream",
     "text": [
      "              Player  Height  Headed_Goals  Total_Goals  Minutes_Played\n",
      "110      Levi Lumeka     170             0            0              25\n",
      "111  Xherdan Shaqiri     169             0           15            6784\n",
      "112   Alexis Sanchez     169             7           62           11171\n",
      "113            Pedro     169             2           20            5714\n",
      "114  Michael Obafemi     169             0            0               8\n"
     ]
    }
   ],
   "source": [
    "# prints bottom 5 columns for visualisation and to ensure dataset has loaded correctly\n",
    "Small5 = stats.tail()\n",
    "print(Small5)"
   ]
  },
  {
   "cell_type": "code",
   "execution_count": 4,
   "metadata": {},
   "outputs": [
    {
     "name": "stdout",
     "output_type": "stream",
     "text": [
      "           Height  Headed_Goals  Total_Goals  Minutes_Played\n",
      "count  115.000000    115.000000   115.000000      115.000000\n",
      "mean   181.495652      2.643478    15.486957     3664.904348\n",
      "std      6.812494      3.846145    18.120147     3308.534872\n",
      "min    169.000000      0.000000     0.000000        1.000000\n",
      "25%    176.000000      0.000000     1.000000      840.500000\n",
      "50%    182.000000      1.000000    12.000000     2802.000000\n",
      "75%    186.000000      3.500000    20.000000     5743.000000\n",
      "max    201.000000     21.000000   105.000000    12185.000000\n"
     ]
    }
   ],
   "source": [
    "# Provides statistical values useful in modelling new random dataset for each of the characteristics being measured\n",
    "\n",
    "print(stats.describe())"
   ]
  },
  {
   "cell_type": "code",
   "execution_count": 6,
   "metadata": {},
   "outputs": [
    {
     "name": "stdout",
     "output_type": "stream",
     "text": [
      "[175.4 176.4 173.7 176.1 197.3 177.4 194.9 176.9 192.3 176.1 171.7 170.9\n",
      " 175.6 192.5 184.7 172.5 179.5 196.5 188.6 183.9 177.1 188.2 186.3 193.8\n",
      " 170.6 183.3 198.1 192.3 171.4 191.8 193.2 189.2 198.1 172.2 174.9 182.\n",
      " 169.3 191.2 181.  180.8 169.3 177.8 176.9 193.4 180.9 193.  189.1 184.5\n",
      " 195.2 189.9 190.6 172.6 197.7 175.9 195.5 194.3 199.2 185.  192.7 192.3\n",
      " 176.9 188.5 185.  196.7 169.1 184.7 189.4 195.7 189.6 195.9 171.2 189.6\n",
      " 193.9 176.2 177.2 177.3 189.6 187.1 169.4 169.6 187.2 198.7 186.3 200.7\n",
      " 169.3 170.2 173.2 170.8 196.6 198.9 176.3 192.3 170.8 177.8 190.9 193.9\n",
      " 190.3 191.4 187.5 180.2]\n"
     ]
    }
   ],
   "source": [
    "# Height\n",
    "# As mentioned previously height is calculated over a uniform distribution\n",
    "#numpy.random.uniform(low=0.0, high=1.0, size=None) *[3]*\n",
    "\n",
    "np.random.seed = 5 # set seed for reporducibility \n",
    "\n",
    "Height = (np.random.uniform(low=169, high=201, size=100)).round(1)\n",
    "print(Height)"
   ]
  },
  {
   "cell_type": "code",
   "execution_count": 7,
   "metadata": {},
   "outputs": [
    {
     "name": "stdout",
     "output_type": "stream",
     "text": [
      "[ 223 1946  772  977 2603   46  834 2594 2651 1105 2979 2241 3036 1624\n",
      "  123  276 2218  113  759  432 2676 2847   11  687  463 3120 2727 1024\n",
      " 3324 2065  945 3147  341  331 2840   87 2576 2374 2232 1301 1450  385\n",
      "  468 2505 2644 2421 2770 1252 1933 2721 2269 1188  272  393 2397 1294\n",
      " 1901 2734 2304 1348   22 2830  880 1297 2187 2689 3019 1813 3396 2716\n",
      " 1481 1377 1570 2428 1077 2342 3070 1078 1044 2585 3116 1075 1495 2373\n",
      " 1089 1740 1384 3124 1233  488 1732 2020 1139 1048 2365 2765 1734 1400\n",
      " 2728   96]\n"
     ]
    }
   ],
   "source": [
    "# Minutes played\n",
    "# Minutes played would be a random integer value between 0 and 3420 (standard 90 minutes over the 38 league games played in a premier league season)\n",
    "\n",
    "np.random.seed = 5 # set seed for reporducibility \n",
    "Mins = (np.random.randint(low=0, high= 3420, size =100))\n",
    "print(Mins)"
   ]
  },
  {
   "cell_type": "code",
   "execution_count": 8,
   "metadata": {},
   "outputs": [
    {
     "name": "stdout",
     "output_type": "stream",
     "text": [
      "[ 1.  7.  3.  3.  9.  0.  3.  9.  9.  4. 10.  8. 10.  6.  0.  1.  8.  0.\n",
      "  3.  1.  9. 10.  0.  2.  2. 11.  9.  3. 11.  7.  3. 11.  1.  1. 10.  0.\n",
      "  9.  8.  8.  4.  5.  1.  2.  9.  9.  8.  9.  4.  7.  9.  8.  4.  1.  1.\n",
      "  8.  4.  6.  9.  8.  5.  0. 10.  3.  4.  7.  9. 10.  6. 12.  9.  5.  5.\n",
      "  5.  8.  4.  8. 10.  4.  4.  9. 11.  4.  5.  8.  4.  6.  5. 11.  4.  2.\n",
      "  6.  7.  4.  4.  8.  9.  6.  5.  9.  0.]\n"
     ]
    }
   ],
   "source": [
    "# Goals scored\n",
    "# Random integer which would be based on the minutes played by the player\n",
    "# Probability of the goals scored per minute can seen in dataset referenced [4]\n",
    "\n",
    "Scored = (Mins * 0.0034).round(0)\n",
    "print(Scored)"
   ]
  },
  {
   "cell_type": "code",
   "execution_count": 18,
   "metadata": {},
   "outputs": [
    {
     "name": "stdout",
     "output_type": "stream",
     "text": [
      "    Height  Minutes Played  Total Overall Goals Scored  Per centage Headers\n",
      "0    175.4             223                         1.0            15.838647\n",
      "1    176.4            1946                         7.0           110.870526\n",
      "2    173.7             772                         3.0            47.515940\n",
      "3    176.1             977                         3.0            47.515940\n",
      "4    197.3            2603                         9.0           142.547819\n",
      "5    177.4              46                         0.0             0.000000\n",
      "6    194.9             834                         3.0            47.515940\n",
      "7    176.9            2594                         9.0           142.547819\n",
      "8    192.3            2651                         9.0           142.547819\n",
      "9    176.1            1105                         4.0            63.354586\n",
      "10   171.7            2979                        10.0           158.386465\n",
      "11   170.9            2241                         8.0           126.709172\n",
      "12   175.6            3036                        10.0           158.386465\n",
      "13   192.5            1624                         6.0            95.031879\n",
      "14   184.7             123                         0.0             0.000000\n",
      "15   172.5             276                         1.0            15.838647\n",
      "16   179.5            2218                         8.0           126.709172\n",
      "17   196.5             113                         0.0             0.000000\n",
      "18   188.6             759                         3.0            47.515940\n",
      "19   183.9             432                         1.0            15.838647\n",
      "20   177.1            2676                         9.0           142.547819\n",
      "21   188.2            2847                        10.0           158.386465\n",
      "22   186.3              11                         0.0             0.000000\n",
      "23   193.8             687                         2.0            31.677293\n",
      "24   170.6             463                         2.0            31.677293\n",
      "25   183.3            3120                        11.0           174.225112\n",
      "26   198.1            2727                         9.0           142.547819\n",
      "27   192.3            1024                         3.0            47.515940\n",
      "28   171.4            3324                        11.0           174.225112\n",
      "29   191.8            2065                         7.0           110.870526\n",
      "..     ...             ...                         ...                  ...\n",
      "70   171.2            1481                         5.0            79.193233\n",
      "71   189.6            1377                         5.0            79.193233\n",
      "72   193.9            1570                         5.0            79.193233\n",
      "73   176.2            2428                         8.0           126.709172\n",
      "74   177.2            1077                         4.0            63.354586\n",
      "75   177.3            2342                         8.0           126.709172\n",
      "76   189.6            3070                        10.0           158.386465\n",
      "77   187.1            1078                         4.0            63.354586\n",
      "78   169.4            1044                         4.0            63.354586\n",
      "79   169.6            2585                         9.0           142.547819\n",
      "80   187.2            3116                        11.0           174.225112\n",
      "81   198.7            1075                         4.0            63.354586\n",
      "82   186.3            1495                         5.0            79.193233\n",
      "83   200.7            2373                         8.0           126.709172\n",
      "84   169.3            1089                         4.0            63.354586\n",
      "85   170.2            1740                         6.0            95.031879\n",
      "86   173.2            1384                         5.0            79.193233\n",
      "87   170.8            3124                        11.0           174.225112\n",
      "88   196.6            1233                         4.0            63.354586\n",
      "89   198.9             488                         2.0            31.677293\n",
      "90   176.3            1732                         6.0            95.031879\n",
      "91   192.3            2020                         7.0           110.870526\n",
      "92   170.8            1139                         4.0            63.354586\n",
      "93   177.8            1048                         4.0            63.354586\n",
      "94   190.9            2365                         8.0           126.709172\n",
      "95   193.9            2765                         9.0           142.547819\n",
      "96   190.3            1734                         6.0            95.031879\n",
      "97   191.4            1400                         5.0            79.193233\n",
      "98   187.5            2728                         9.0           142.547819\n",
      "99   180.2              96                         0.0             0.000000\n",
      "\n",
      "[100 rows x 4 columns]\n"
     ]
    }
   ],
   "source": [
    "# Generate table of previously calculated/modelled results\n",
    "\n",
    "table = pd.DataFrame({'Height' : Height, 'Minutes Played' : Mins, 'Total Overall Goals Scored' : Scored, 'Per centage Headers' : x*100})\n",
    "print(table)"
   ]
  },
  {
   "cell_type": "code",
   "execution_count": 11,
   "metadata": {},
   "outputs": [
    {
     "name": "stdout",
     "output_type": "stream",
     "text": [
      "[0.15838647 1.10870526 0.4751594  0.4751594  1.42547819 0.\n",
      " 0.4751594  1.42547819 1.42547819 0.63354586 1.58386465 1.26709172\n",
      " 1.58386465 0.95031879 0.         0.15838647 1.26709172 0.\n",
      " 0.4751594  0.15838647 1.42547819 1.58386465 0.         0.31677293\n",
      " 0.31677293 1.74225112 1.42547819 0.4751594  1.74225112 1.10870526\n",
      " 0.4751594  1.74225112 0.15838647 0.15838647 1.58386465 0.\n",
      " 1.42547819 1.26709172 1.26709172 0.63354586 0.79193233 0.15838647\n",
      " 0.31677293 1.42547819 1.42547819 1.26709172 1.42547819 0.63354586\n",
      " 1.10870526 1.42547819 1.26709172 0.63354586 0.15838647 0.15838647\n",
      " 1.26709172 0.63354586 0.95031879 1.42547819 1.26709172 0.79193233\n",
      " 0.         1.58386465 0.4751594  0.63354586 1.10870526 1.42547819\n",
      " 1.58386465 0.95031879 1.90063758 1.42547819 0.79193233 0.79193233\n",
      " 0.79193233 1.26709172 0.63354586 1.26709172 1.58386465 0.63354586\n",
      " 0.63354586 1.42547819 1.74225112 0.63354586 0.79193233 1.26709172\n",
      " 0.63354586 0.95031879 0.79193233 1.74225112 0.63354586 0.31677293\n",
      " 0.95031879 1.10870526 0.63354586 0.63354586 1.26709172 1.42547819\n",
      " 0.95031879 0.79193233 1.42547819 0.        ]\n"
     ]
    }
   ],
   "source": [
    "# Headed goals\n",
    "\n",
    "#Calculations can be seen in notebook files \"Workings for project\" & \"Programming Project\"\n",
    "\n",
    "# Issues in reading height values being divided up. Code did not accurately group the height variables based on the groupings provided to it. The below code is the closest variation achieved -\n",
    "\n",
    "for row in table['Height']:\n",
    "    if (row >= 184):\n",
    "        x = (Scored * (np.random.uniform(low=0.15, high=0.22)))\n",
    "    elif (row <= 183 and row >= 178):\n",
    "        x = (Scored * (np.random.uniform(low=0.09, high=0.16)))\n",
    "    elif (row <= 177):\n",
    "        x = (Scored * (np.random.uniform(low=0.00, high=0.09)))\n",
    "print(x)"
   ]
  },
  {
   "cell_type": "code",
   "execution_count": null,
   "metadata": {},
   "outputs": [],
   "source": []
  },
  {
   "cell_type": "code",
   "execution_count": null,
   "metadata": {},
   "outputs": [],
   "source": [
    "# References - \n",
    "\n",
    "[1] Premier League Statistics \n",
    "\n",
    "    https://www.premierleague.com/stats/\n",
    "    \n",
    "[2] Height distribution\n",
    "    \n",
    "    http://www.usablestats.com/lessons/normal\n",
    "        \n",
    "[3] Numpy.random.uniform\n",
    "    \n",
    "    https://docs.scipy.org/doc/numpy/reference/generated/numpy.random.uniform.html\n",
    "        \n",
    "[4] Dataset\n",
    "\n",
    "    https://github.com/ShaunaB93/Programming-for-Data-Analytics-Project/blob/master/Data%20files/Ordered%20stats.csv"
   ]
  }
 ],
 "metadata": {
  "kernelspec": {
   "display_name": "Python 3",
   "language": "python",
   "name": "python3"
  },
  "language_info": {
   "codemirror_mode": {
    "name": "ipython",
    "version": 3
   },
   "file_extension": ".py",
   "mimetype": "text/x-python",
   "name": "python",
   "nbconvert_exporter": "python",
   "pygments_lexer": "ipython3",
   "version": "3.7.0"
  }
 },
 "nbformat": 4,
 "nbformat_minor": 2
}
